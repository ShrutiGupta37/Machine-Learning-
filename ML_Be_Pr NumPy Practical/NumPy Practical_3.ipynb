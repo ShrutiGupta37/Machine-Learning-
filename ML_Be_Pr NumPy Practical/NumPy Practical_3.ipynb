{
 "cells": [
  {
   "cell_type": "markdown",
   "id": "013991ce",
   "metadata": {},
   "source": [
    "# NumPy Functions:"
   ]
  },
  {
   "cell_type": "code",
   "execution_count": 1,
   "id": "49cc105e",
   "metadata": {},
   "outputs": [],
   "source": [
    "import numpy as np"
   ]
  },
  {
   "cell_type": "markdown",
   "id": "c9c2e568",
   "metadata": {},
   "source": [
    "# arange()"
   ]
  },
  {
   "cell_type": "code",
   "execution_count": 3,
   "id": "a871d2af",
   "metadata": {},
   "outputs": [
    {
     "name": "stdout",
     "output_type": "stream",
     "text": [
      "[ 1  2  3  4  5  6  7  8  9 10 11 12]\n"
     ]
    }
   ],
   "source": [
    "# np.arrange(start,end,steps)\n",
    "arr_1d=np.arange(1,13)\n",
    "print(arr_1d)"
   ]
  },
  {
   "cell_type": "code",
   "execution_count": 5,
   "id": "c42a444e",
   "metadata": {},
   "outputs": [
    {
     "name": "stdout",
     "output_type": "stream",
     "text": [
      "[ 0  2  4  6  8 10 12]\n"
     ]
    }
   ],
   "source": [
    "even_arr=np.arange(0,13,2)\n",
    "print(even_arr)"
   ]
  },
  {
   "cell_type": "markdown",
   "id": "34230f59",
   "metadata": {},
   "source": [
    "# linspace()"
   ]
  },
  {
   "cell_type": "code",
   "execution_count": 8,
   "id": "9b7cacdf",
   "metadata": {},
   "outputs": [
    {
     "data": {
      "text/plain": [
       "array([1. , 3.5, 6. ])"
      ]
     },
     "execution_count": 8,
     "metadata": {},
     "output_type": "execute_result"
    }
   ],
   "source": [
    "np.linspace(1,6,3)"
   ]
  },
  {
   "cell_type": "markdown",
   "id": "56a61cac",
   "metadata": {},
   "source": [
    "# reshape()"
   ]
  },
  {
   "cell_type": "code",
   "execution_count": 14,
   "id": "3d7a17ec",
   "metadata": {},
   "outputs": [
    {
     "name": "stdout",
     "output_type": "stream",
     "text": [
      "[[ 1  2  3  4]\n",
      " [ 5  6  7  8]\n",
      " [ 9 10 11 12]]\n"
     ]
    }
   ],
   "source": [
    "# arr_2d=arr_1d.reshape(row,column)\n",
    "arr_2d=arr_1d.reshape(3,4)\n",
    "print(arr_2d)"
   ]
  },
  {
   "cell_type": "code",
   "execution_count": 16,
   "id": "9ae87f83",
   "metadata": {},
   "outputs": [
    {
     "name": "stdout",
     "output_type": "stream",
     "text": [
      "[[[ 1  2]\n",
      "  [ 3  4]\n",
      "  [ 5  6]]\n",
      "\n",
      " [[ 7  8]\n",
      "  [ 9 10]\n",
      "  [11 12]]]\n"
     ]
    }
   ],
   "source": [
    "arr_3d = arr_1d.reshape(2,3,2)\n",
    "print(arr_3d)"
   ]
  },
  {
   "cell_type": "code",
   "execution_count": 17,
   "id": "3f50b35e",
   "metadata": {},
   "outputs": [
    {
     "name": "stdout",
     "output_type": "stream",
     "text": [
      "[[ 1  2  3  4  5  6]\n",
      " [ 7  8  9 10 11 12]]\n"
     ]
    }
   ],
   "source": [
    "arr=np.arange(1,13).reshape(2,6)\n",
    "print(arr)"
   ]
  },
  {
   "cell_type": "markdown",
   "id": "e86880b1",
   "metadata": {},
   "source": [
    "# ravel()"
   ]
  },
  {
   "cell_type": "code",
   "execution_count": 18,
   "id": "f2370078",
   "metadata": {},
   "outputs": [
    {
     "data": {
      "text/plain": [
       "array([ 1,  2,  3,  4,  5,  6,  7,  8,  9, 10, 11, 12])"
      ]
     },
     "execution_count": 18,
     "metadata": {},
     "output_type": "execute_result"
    }
   ],
   "source": [
    "# converst multi dimesional array into 1-d array\n",
    "\n",
    "arr.ravel()"
   ]
  },
  {
   "cell_type": "markdown",
   "id": "95aec9c8",
   "metadata": {},
   "source": [
    "# flatten"
   ]
  },
  {
   "cell_type": "code",
   "execution_count": 19,
   "id": "1a73bfed",
   "metadata": {},
   "outputs": [
    {
     "data": {
      "text/plain": [
       "array([ 1,  2,  3,  4,  5,  6,  7,  8,  9, 10, 11, 12])"
      ]
     },
     "execution_count": 19,
     "metadata": {},
     "output_type": "execute_result"
    }
   ],
   "source": [
    "arr.flatten()"
   ]
  },
  {
   "cell_type": "markdown",
   "id": "a15bab64",
   "metadata": {},
   "source": [
    "# transpose()"
   ]
  },
  {
   "cell_type": "code",
   "execution_count": 20,
   "id": "8f4e3169",
   "metadata": {},
   "outputs": [
    {
     "data": {
      "text/plain": [
       "array([[ 1,  7],\n",
       "       [ 2,  8],\n",
       "       [ 3,  9],\n",
       "       [ 4, 10],\n",
       "       [ 5, 11],\n",
       "       [ 6, 12]])"
      ]
     },
     "execution_count": 20,
     "metadata": {},
     "output_type": "execute_result"
    }
   ],
   "source": [
    "arr.transpose()"
   ]
  },
  {
   "cell_type": "code",
   "execution_count": null,
   "id": "a3ec6e6a",
   "metadata": {},
   "outputs": [],
   "source": []
  }
 ],
 "metadata": {
  "kernelspec": {
   "display_name": "Python 3 (ipykernel)",
   "language": "python",
   "name": "python3"
  },
  "language_info": {
   "codemirror_mode": {
    "name": "ipython",
    "version": 3
   },
   "file_extension": ".py",
   "mimetype": "text/x-python",
   "name": "python",
   "nbconvert_exporter": "python",
   "pygments_lexer": "ipython3",
   "version": "3.11.5"
  }
 },
 "nbformat": 4,
 "nbformat_minor": 5
}
