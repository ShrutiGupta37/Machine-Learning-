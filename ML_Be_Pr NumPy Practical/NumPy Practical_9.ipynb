{
 "cells": [
  {
   "cell_type": "markdown",
   "id": "6b74895f",
   "metadata": {},
   "source": [
    "# String Operations, Comparison and information"
   ]
  },
  {
   "cell_type": "code",
   "execution_count": 1,
   "id": "131b5444",
   "metadata": {},
   "outputs": [],
   "source": [
    "import numpy as np"
   ]
  },
  {
   "cell_type": "code",
   "execution_count": 2,
   "id": "9494a028",
   "metadata": {},
   "outputs": [],
   "source": [
    "ch_name=\"India AI production\"\n",
    "str1=\"Learning Python Numpy\"\n"
   ]
  },
  {
   "cell_type": "code",
   "execution_count": 3,
   "id": "34354bd3",
   "metadata": {},
   "outputs": [
    {
     "data": {
      "text/plain": [
       "array('India AI productionLearning Python Numpy', dtype='<U40')"
      ]
     },
     "execution_count": 3,
     "metadata": {},
     "output_type": "execute_result"
    }
   ],
   "source": [
    "np.char.add(ch_name,str1)"
   ]
  },
  {
   "cell_type": "code",
   "execution_count": 4,
   "id": "ea444734",
   "metadata": {},
   "outputs": [
    {
     "data": {
      "text/plain": [
       "array('india ai production', dtype='<U19')"
      ]
     },
     "execution_count": 4,
     "metadata": {},
     "output_type": "execute_result"
    }
   ],
   "source": [
    "np.char.lower(ch_name)"
   ]
  },
  {
   "cell_type": "code",
   "execution_count": 5,
   "id": "29459b7e",
   "metadata": {},
   "outputs": [
    {
     "data": {
      "text/plain": [
       "array('LEARNING PYTHON NUMPY', dtype='<U21')"
      ]
     },
     "execution_count": 5,
     "metadata": {},
     "output_type": "execute_result"
    }
   ],
   "source": [
    "np.char.upper(str1)"
   ]
  },
  {
   "cell_type": "code",
   "execution_count": 6,
   "id": "27c83ab6",
   "metadata": {},
   "outputs": [
    {
     "data": {
      "text/plain": [
       "array('                   Learning Python Numpy                    ',\n",
       "      dtype='<U60')"
      ]
     },
     "execution_count": 6,
     "metadata": {},
     "output_type": "execute_result"
    }
   ],
   "source": [
    "np.char.center(str1,60)"
   ]
  },
  {
   "cell_type": "code",
   "execution_count": 7,
   "id": "76cdea65",
   "metadata": {},
   "outputs": [
    {
     "data": {
      "text/plain": [
       "array('*******************Learning Python Numpy********************',\n",
       "      dtype='<U60')"
      ]
     },
     "execution_count": 7,
     "metadata": {},
     "output_type": "execute_result"
    }
   ],
   "source": [
    "np.char.center(str1,60,fillchar=\"*\")"
   ]
  },
  {
   "cell_type": "code",
   "execution_count": 8,
   "id": "2bf75bca",
   "metadata": {},
   "outputs": [
    {
     "data": {
      "text/plain": [
       "array(list(['India', 'AI', 'production']), dtype=object)"
      ]
     },
     "execution_count": 8,
     "metadata": {},
     "output_type": "execute_result"
    }
   ],
   "source": [
    "np.char.split(ch_name)"
   ]
  },
  {
   "cell_type": "code",
   "execution_count": 9,
   "id": "ee2f5c0e",
   "metadata": {},
   "outputs": [
    {
     "data": {
      "text/plain": [
       "array(list(['hello', 'Indian']), dtype=object)"
      ]
     },
     "execution_count": 9,
     "metadata": {},
     "output_type": "execute_result"
    }
   ],
   "source": [
    "np.char.splitlines(\"hello\\nIndian\")"
   ]
  },
  {
   "cell_type": "code",
   "execution_count": 10,
   "id": "59345ce8",
   "metadata": {},
   "outputs": [],
   "source": [
    "str4 =\"dmy\"\n",
    "str5=\"dmy\"\n"
   ]
  },
  {
   "cell_type": "code",
   "execution_count": 11,
   "id": "f9d9457c",
   "metadata": {},
   "outputs": [
    {
     "data": {
      "text/plain": [
       "array(['d:m:y', 'd/m/y'], dtype='<U5')"
      ]
     },
     "execution_count": 11,
     "metadata": {},
     "output_type": "execute_result"
    }
   ],
   "source": [
    "np.char.join([\":\",\"/\"],[str4,str5])"
   ]
  },
  {
   "cell_type": "code",
   "execution_count": 12,
   "id": "9c211830",
   "metadata": {},
   "outputs": [
    {
     "data": {
      "text/plain": [
       "array('India Artificial Intelligence production', dtype='<U40')"
      ]
     },
     "execution_count": 12,
     "metadata": {},
     "output_type": "execute_result"
    }
   ],
   "source": [
    "np.char.replace(ch_name,\"AI\",\"Artificial Intelligence\")"
   ]
  },
  {
   "cell_type": "code",
   "execution_count": 13,
   "id": "968b493a",
   "metadata": {},
   "outputs": [
    {
     "data": {
      "text/plain": [
       "array(True)"
      ]
     },
     "execution_count": 13,
     "metadata": {},
     "output_type": "execute_result"
    }
   ],
   "source": [
    "np.char.equal(str4,str5)"
   ]
  },
  {
   "cell_type": "code",
   "execution_count": 14,
   "id": "0eb8d6e6",
   "metadata": {},
   "outputs": [
    {
     "data": {
      "text/plain": [
       "array(1)"
      ]
     },
     "execution_count": 14,
     "metadata": {},
     "output_type": "execute_result"
    }
   ],
   "source": [
    "np.char.count(ch_name,\"a\")"
   ]
  },
  {
   "cell_type": "code",
   "execution_count": 15,
   "id": "383ea751",
   "metadata": {},
   "outputs": [
    {
     "data": {
      "text/plain": [
       "array(6)"
      ]
     },
     "execution_count": 15,
     "metadata": {},
     "output_type": "execute_result"
    }
   ],
   "source": [
    "np.char.find(ch_name,\"AI\")"
   ]
  },
  {
   "cell_type": "code",
   "execution_count": 17,
   "id": "143e2b82",
   "metadata": {},
   "outputs": [],
   "source": [
    "import tensorflow as tf"
   ]
  },
  {
   "cell_type": "code",
   "execution_count": 18,
   "id": "4f187a77-0bf1-41ca-ae82-2608e06bdbb3",
   "metadata": {},
   "outputs": [
    {
     "name": "stdout",
     "output_type": "stream",
     "text": [
      "2.10.0\n"
     ]
    }
   ],
   "source": [
    "print(tf.__version__)"
   ]
  },
  {
   "cell_type": "code",
   "execution_count": null,
   "id": "9eec3e6b-3a36-4716-844f-5f75dfaa5958",
   "metadata": {},
   "outputs": [],
   "source": []
  }
 ],
 "metadata": {
  "kernelspec": {
   "display_name": "Python 3 (ipykernel)",
   "language": "python",
   "name": "python3"
  },
  "language_info": {
   "codemirror_mode": {
    "name": "ipython",
    "version": 3
   },
   "file_extension": ".py",
   "mimetype": "text/x-python",
   "name": "python",
   "nbconvert_exporter": "python",
   "pygments_lexer": "ipython3",
   "version": "3.10.13"
  }
 },
 "nbformat": 4,
 "nbformat_minor": 5
}
