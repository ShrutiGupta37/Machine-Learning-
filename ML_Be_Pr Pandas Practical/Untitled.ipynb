{
 "cells": [
  {
   "cell_type": "code",
   "execution_count": null,
   "id": "962874f5",
   "metadata": {},
   "outputs": [],
   "source": [
    "# Enter your code here. Read input from STDIN. Print output to STDOUT\n",
    "import numpy as np\n",
    "K, M = input(), input()\n",
    "S=0\n",
    "# list1=[2,5,4]    \n",
    "# list2=[3,7,8,9]    \n",
    "# list3=[5,5,7,8,9,10]\n",
    "for i in range(K):\n",
    "    lis=np.arange(K)\n",
    "    a=max(lis)\n",
    "    S=S+a*a\n",
    "    \n",
    "print(S%M)\n",
    "# s=(max(list1)*max(list1)+max(list2)*max(list2)+max(list3)*max(list3))%M       \n",
    "# print(s)"
   ]
  },
  {
   "cell_type": "code",
   "execution_count": null,
   "id": "8c8f40fe",
   "metadata": {},
   "outputs": [],
   "source": []
  },
  {
   "cell_type": "code",
   "execution_count": null,
   "id": "f0f6e9e5",
   "metadata": {},
   "outputs": [],
   "source": []
  }
 ],
 "metadata": {
  "kernelspec": {
   "display_name": "Python 3 (ipykernel)",
   "language": "python",
   "name": "python3"
  },
  "language_info": {
   "codemirror_mode": {
    "name": "ipython",
    "version": 3
   },
   "file_extension": ".py",
   "mimetype": "text/x-python",
   "name": "python",
   "nbconvert_exporter": "python",
   "pygments_lexer": "ipython3",
   "version": "3.11.5"
  }
 },
 "nbformat": 4,
 "nbformat_minor": 5
}
